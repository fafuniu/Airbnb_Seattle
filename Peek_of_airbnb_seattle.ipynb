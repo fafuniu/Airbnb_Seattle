{
 "cells": [
  {
   "cell_type": "markdown",
   "metadata": {},
   "source": [
    "# Data description\n",
    "\n",
    "(Data is from a Kaggle competition: https://www.kaggle.com/airbnb/seattle/home)\n",
    "\n",
    "In this dataset, it mainly includes three files: listings, including full descriptions and average review score; reviews, including unique id for each reviewers and detailed comments; calendar, including listing id and the price and availability for that day."
   ]
  },
  {
   "cell_type": "markdown",
   "metadata": {},
   "source": [
    "### In this notebook, I am going to explore a few question about the price:\n",
    "### - Which neighborhoods have the most rooms? And which neighborhoods are cheaper to live?\n",
    "### - The change of occupancy rate with time in a week?\n",
    "### - The change of the average prices of Airbnb with time in a year/week?"
   ]
  },
  {
   "cell_type": "code",
   "execution_count": 118,
   "metadata": {
    "ExecuteTime": {
     "end_time": "2019-01-29T12:04:55.159305Z",
     "start_time": "2019-01-29T12:04:55.155168Z"
    },
    "collapsed": true
   },
   "outputs": [],
   "source": [
    "import matplotlib.pyplot as plt\n",
    "import numpy as np\n",
    "import matplotlib.pyplot as plt\n",
    "import pandas as pd\n",
    "import warnings\n",
    "warnings.filterwarnings(\"ignore\")"
   ]
  },
  {
   "cell_type": "markdown",
   "metadata": {},
   "source": [
    "# Reading raw data"
   ]
  },
  {
   "cell_type": "code",
   "execution_count": 131,
   "metadata": {
    "ExecuteTime": {
     "end_time": "2019-01-29T12:06:06.445477Z",
     "start_time": "2019-01-29T12:06:05.449744Z"
    },
    "collapsed": true
   },
   "outputs": [],
   "source": [
    "listings=pd.read_csv('../dataset/listings.csv')\n",
    "reviews=pd.read_csv('../dataset/reviews.csv')\n",
    "calendar=pd.read_csv('../dataset/calendar.csv')"
   ]
  },
  {
   "cell_type": "code",
   "execution_count": 121,
   "metadata": {
    "ExecuteTime": {
     "end_time": "2019-01-29T12:04:56.167371Z",
     "start_time": "2019-01-29T12:04:56.161362Z"
    }
   },
   "outputs": [
    {
     "data": {
      "text/plain": [
       "Index(['id', 'listing_url', 'scrape_id', 'last_scraped', 'name', 'summary',\n",
       "       'space', 'description', 'experiences_offered', 'neighborhood_overview',\n",
       "       'notes', 'transit', 'thumbnail_url', 'medium_url', 'picture_url',\n",
       "       'xl_picture_url', 'host_id', 'host_url', 'host_name', 'host_since',\n",
       "       'host_location', 'host_about', 'host_response_time',\n",
       "       'host_response_rate', 'host_acceptance_rate', 'host_is_superhost',\n",
       "       'host_thumbnail_url', 'host_picture_url', 'host_neighbourhood',\n",
       "       'host_listings_count', 'host_total_listings_count',\n",
       "       'host_verifications', 'host_has_profile_pic', 'host_identity_verified',\n",
       "       'street', 'neighbourhood', 'neighbourhood_cleansed',\n",
       "       'neighbourhood_group_cleansed', 'city', 'state', 'zipcode', 'market',\n",
       "       'smart_location', 'country_code', 'country', 'latitude', 'longitude',\n",
       "       'is_location_exact', 'property_type', 'room_type', 'accommodates',\n",
       "       'bathrooms', 'bedrooms', 'beds', 'bed_type', 'amenities', 'square_feet',\n",
       "       'price', 'weekly_price', 'monthly_price', 'security_deposit',\n",
       "       'cleaning_fee', 'guests_included', 'extra_people', 'minimum_nights',\n",
       "       'maximum_nights', 'calendar_updated', 'has_availability',\n",
       "       'availability_30', 'availability_60', 'availability_90',\n",
       "       'availability_365', 'calendar_last_scraped', 'number_of_reviews',\n",
       "       'first_review', 'last_review', 'review_scores_rating',\n",
       "       'review_scores_accuracy', 'review_scores_cleanliness',\n",
       "       'review_scores_checkin', 'review_scores_communication',\n",
       "       'review_scores_location', 'review_scores_value', 'requires_license',\n",
       "       'license', 'jurisdiction_names', 'instant_bookable',\n",
       "       'cancellation_policy', 'require_guest_profile_picture',\n",
       "       'require_guest_phone_verification', 'calculated_host_listings_count',\n",
       "       'reviews_per_month'],\n",
       "      dtype='object')"
      ]
     },
     "execution_count": 121,
     "metadata": {},
     "output_type": "execute_result"
    }
   ],
   "source": [
    "listings.columns"
   ]
  },
  {
   "cell_type": "code",
   "execution_count": 122,
   "metadata": {
    "ExecuteTime": {
     "end_time": "2019-01-29T12:04:56.182467Z",
     "start_time": "2019-01-29T12:04:56.168948Z"
    }
   },
   "outputs": [
    {
     "name": "stdout",
     "output_type": "stream",
     "text": [
      "id                                                                             953595\n",
      "listing_url                                       https://www.airbnb.com/rooms/953595\n",
      "scrape_id                                                              20160104002432\n",
      "last_scraped                                                               2016-01-04\n",
      "name                                               Bright & Airy Queen Anne Apartment\n",
      "summary                             Chemically sensitive? We've removed the irrita...\n",
      "space                               Beautiful, hypoallergenic apartment in an extr...\n",
      "description                         Chemically sensitive? We've removed the irrita...\n",
      "experiences_offered                                                              none\n",
      "neighborhood_overview               Queen Anne is a wonderful, truly functional vi...\n",
      "notes                               What's up with the free pillows?  Our home was...\n",
      "transit                             Convenient bus stops are just down the block, ...\n",
      "thumbnail_url                       https://a0.muscache.com/ac/pictures/14409893/f...\n",
      "medium_url                          https://a0.muscache.com/im/pictures/14409893/f...\n",
      "picture_url                         https://a0.muscache.com/ac/pictures/14409893/f...\n",
      "xl_picture_url                      https://a0.muscache.com/ac/pictures/14409893/f...\n",
      "host_id                                                                       5177328\n",
      "host_url                                    https://www.airbnb.com/users/show/5177328\n",
      "host_name                                                                      Andrea\n",
      "host_since                                                                 2013-02-21\n",
      "host_location                                      Seattle, Washington, United States\n",
      "host_about                          Living east coast/left coast/overseas.  Time i...\n",
      "host_response_time                                                     within an hour\n",
      "host_response_rate                                                                98%\n",
      "host_acceptance_rate                                                             100%\n",
      "host_is_superhost                                                                   t\n",
      "host_thumbnail_url                  https://a0.muscache.com/ac/users/5177328/profi...\n",
      "host_picture_url                    https://a0.muscache.com/ac/users/5177328/profi...\n",
      "host_neighbourhood                                                         Queen Anne\n",
      "host_listings_count                                                                 6\n",
      "                                                          ...                        \n",
      "guests_included                                                                     1\n",
      "extra_people                                                                    $0.00\n",
      "minimum_nights                                                                      2\n",
      "maximum_nights                                                                     90\n",
      "calendar_updated                                                                today\n",
      "has_availability                                                                    t\n",
      "availability_30                                                                    13\n",
      "availability_60                                                                    13\n",
      "availability_90                                                                    16\n",
      "availability_365                                                                  291\n",
      "calendar_last_scraped                                                      2016-01-04\n",
      "number_of_reviews                                                                  43\n",
      "first_review                                                               2013-08-19\n",
      "last_review                                                                2015-12-29\n",
      "review_scores_rating                                                               96\n",
      "review_scores_accuracy                                                             10\n",
      "review_scores_cleanliness                                                          10\n",
      "review_scores_checkin                                                              10\n",
      "review_scores_communication                                                        10\n",
      "review_scores_location                                                             10\n",
      "review_scores_value                                                                10\n",
      "requires_license                                                                    f\n",
      "license                                                                           NaN\n",
      "jurisdiction_names                                                         WASHINGTON\n",
      "instant_bookable                                                                    f\n",
      "cancellation_policy                                                            strict\n",
      "require_guest_profile_picture                                                       t\n",
      "require_guest_phone_verification                                                    t\n",
      "calculated_host_listings_count                                                      6\n",
      "reviews_per_month                                                                1.48\n",
      "Name: 1, Length: 92, dtype: object\n"
     ]
    }
   ],
   "source": [
    "print(listings.iloc[1])"
   ]
  },
  {
   "cell_type": "code",
   "execution_count": 123,
   "metadata": {
    "ExecuteTime": {
     "end_time": "2019-01-29T12:04:56.202549Z",
     "start_time": "2019-01-29T12:04:56.184464Z"
    }
   },
   "outputs": [
    {
     "data": {
      "text/html": [
       "<div>\n",
       "<style>\n",
       "    .dataframe thead tr:only-child th {\n",
       "        text-align: right;\n",
       "    }\n",
       "\n",
       "    .dataframe thead th {\n",
       "        text-align: left;\n",
       "    }\n",
       "\n",
       "    .dataframe tbody tr th {\n",
       "        vertical-align: top;\n",
       "    }\n",
       "</style>\n",
       "<table border=\"1\" class=\"dataframe\">\n",
       "  <thead>\n",
       "    <tr style=\"text-align: right;\">\n",
       "      <th></th>\n",
       "      <th>listing_id</th>\n",
       "      <th>id</th>\n",
       "      <th>date</th>\n",
       "      <th>reviewer_id</th>\n",
       "      <th>reviewer_name</th>\n",
       "      <th>comments</th>\n",
       "    </tr>\n",
       "  </thead>\n",
       "  <tbody>\n",
       "    <tr>\n",
       "      <th>0</th>\n",
       "      <td>7202016</td>\n",
       "      <td>38917982</td>\n",
       "      <td>2015-07-19</td>\n",
       "      <td>28943674</td>\n",
       "      <td>Bianca</td>\n",
       "      <td>Cute and cozy place. Perfect location to every...</td>\n",
       "    </tr>\n",
       "    <tr>\n",
       "      <th>1</th>\n",
       "      <td>7202016</td>\n",
       "      <td>39087409</td>\n",
       "      <td>2015-07-20</td>\n",
       "      <td>32440555</td>\n",
       "      <td>Frank</td>\n",
       "      <td>Kelly has a great room in a very central locat...</td>\n",
       "    </tr>\n",
       "    <tr>\n",
       "      <th>2</th>\n",
       "      <td>7202016</td>\n",
       "      <td>39820030</td>\n",
       "      <td>2015-07-26</td>\n",
       "      <td>37722850</td>\n",
       "      <td>Ian</td>\n",
       "      <td>Very spacious apartment, and in a great neighb...</td>\n",
       "    </tr>\n",
       "    <tr>\n",
       "      <th>3</th>\n",
       "      <td>7202016</td>\n",
       "      <td>40813543</td>\n",
       "      <td>2015-08-02</td>\n",
       "      <td>33671805</td>\n",
       "      <td>George</td>\n",
       "      <td>Close to Seattle Center and all it has to offe...</td>\n",
       "    </tr>\n",
       "    <tr>\n",
       "      <th>4</th>\n",
       "      <td>7202016</td>\n",
       "      <td>41986501</td>\n",
       "      <td>2015-08-10</td>\n",
       "      <td>34959538</td>\n",
       "      <td>Ming</td>\n",
       "      <td>Kelly was a great host and very accommodating ...</td>\n",
       "    </tr>\n",
       "  </tbody>\n",
       "</table>\n",
       "</div>"
      ],
      "text/plain": [
       "   listing_id        id        date  reviewer_id reviewer_name  \\\n",
       "0     7202016  38917982  2015-07-19     28943674        Bianca   \n",
       "1     7202016  39087409  2015-07-20     32440555         Frank   \n",
       "2     7202016  39820030  2015-07-26     37722850           Ian   \n",
       "3     7202016  40813543  2015-08-02     33671805        George   \n",
       "4     7202016  41986501  2015-08-10     34959538          Ming   \n",
       "\n",
       "                                            comments  \n",
       "0  Cute and cozy place. Perfect location to every...  \n",
       "1  Kelly has a great room in a very central locat...  \n",
       "2  Very spacious apartment, and in a great neighb...  \n",
       "3  Close to Seattle Center and all it has to offe...  \n",
       "4  Kelly was a great host and very accommodating ...  "
      ]
     },
     "execution_count": 123,
     "metadata": {},
     "output_type": "execute_result"
    }
   ],
   "source": [
    "reviews.head()"
   ]
  },
  {
   "cell_type": "code",
   "execution_count": 132,
   "metadata": {
    "ExecuteTime": {
     "end_time": "2019-01-29T12:06:09.528060Z",
     "start_time": "2019-01-29T12:06:09.505296Z"
    }
   },
   "outputs": [
    {
     "data": {
      "text/html": [
       "<div>\n",
       "<style>\n",
       "    .dataframe thead tr:only-child th {\n",
       "        text-align: right;\n",
       "    }\n",
       "\n",
       "    .dataframe thead th {\n",
       "        text-align: left;\n",
       "    }\n",
       "\n",
       "    .dataframe tbody tr th {\n",
       "        vertical-align: top;\n",
       "    }\n",
       "</style>\n",
       "<table border=\"1\" class=\"dataframe\">\n",
       "  <thead>\n",
       "    <tr style=\"text-align: right;\">\n",
       "      <th></th>\n",
       "      <th>listing_id</th>\n",
       "      <th>date</th>\n",
       "      <th>available</th>\n",
       "      <th>price</th>\n",
       "    </tr>\n",
       "  </thead>\n",
       "  <tbody>\n",
       "    <tr>\n",
       "      <th>0</th>\n",
       "      <td>241032</td>\n",
       "      <td>2016-01-04</td>\n",
       "      <td>t</td>\n",
       "      <td>$85.00</td>\n",
       "    </tr>\n",
       "    <tr>\n",
       "      <th>1</th>\n",
       "      <td>241032</td>\n",
       "      <td>2016-01-05</td>\n",
       "      <td>t</td>\n",
       "      <td>$85.00</td>\n",
       "    </tr>\n",
       "    <tr>\n",
       "      <th>2</th>\n",
       "      <td>241032</td>\n",
       "      <td>2016-01-06</td>\n",
       "      <td>f</td>\n",
       "      <td>NaN</td>\n",
       "    </tr>\n",
       "    <tr>\n",
       "      <th>3</th>\n",
       "      <td>241032</td>\n",
       "      <td>2016-01-07</td>\n",
       "      <td>f</td>\n",
       "      <td>NaN</td>\n",
       "    </tr>\n",
       "    <tr>\n",
       "      <th>4</th>\n",
       "      <td>241032</td>\n",
       "      <td>2016-01-08</td>\n",
       "      <td>f</td>\n",
       "      <td>NaN</td>\n",
       "    </tr>\n",
       "  </tbody>\n",
       "</table>\n",
       "</div>"
      ],
      "text/plain": [
       "   listing_id        date available   price\n",
       "0      241032  2016-01-04         t  $85.00\n",
       "1      241032  2016-01-05         t  $85.00\n",
       "2      241032  2016-01-06         f     NaN\n",
       "3      241032  2016-01-07         f     NaN\n",
       "4      241032  2016-01-08         f     NaN"
      ]
     },
     "execution_count": 132,
     "metadata": {},
     "output_type": "execute_result"
    }
   ],
   "source": [
    "calendar.head()"
   ]
  },
  {
   "cell_type": "markdown",
   "metadata": {
    "collapsed": true
   },
   "source": [
    "# The change of the average prices of Airbnb with time in a year \n"
   ]
  },
  {
   "cell_type": "code",
   "execution_count": 136,
   "metadata": {
    "ExecuteTime": {
     "end_time": "2019-01-29T12:06:42.085306Z",
     "start_time": "2019-01-29T12:06:42.068116Z"
    }
   },
   "outputs": [],
   "source": [
    "rooms_price=calendar.copy()"
   ]
  },
  {
   "cell_type": "code",
   "execution_count": 137,
   "metadata": {
    "ExecuteTime": {
     "end_time": "2019-01-29T12:06:43.123520Z",
     "start_time": "2019-01-29T12:06:42.539421Z"
    }
   },
   "outputs": [],
   "source": [
    "#extract date information\n",
    "\n",
    "rooms_price['dates']=pd.to_datetime(rooms_price.date)\n",
    "rooms_price[\"month\"]=rooms_price['dates'].dt.month\n",
    "rooms_price['quarter']=rooms_price['dates'].dt.quarter\n",
    "rooms_price['weekday']=rooms_price['dates'].dt.weekday+1  # pluse 1 on the results, the number indicates the weekday ex, 1->Monday 2->Tuesday....\n",
    "rooms_price['dayofweek']=rooms_price['dates'].dt.dayofweek+1 # pluse 1 on the results, the number indicates the weekday ex, 1->Monday 2->Tuesday....\n",
    "rooms_price['weekofyear']=rooms_price['dates'].dt.weekofyear\n",
    "rooms_price['dayofyear']=rooms_price['dates'].dt.dayofyear"
   ]
  },
  {
   "cell_type": "code",
   "execution_count": 140,
   "metadata": {
    "ExecuteTime": {
     "end_time": "2019-01-29T12:07:40.054089Z",
     "start_time": "2019-01-29T12:07:35.695458Z"
    }
   },
   "outputs": [],
   "source": [
    "#room not available\n",
    "room_not_available=rooms_price[rooms_price.available==\"f\"]\n",
    "\n",
    "# room is avaliable\n",
    "# change the price from strings to float\n",
    "def str2float(x):\n",
    "    x=x.replace('$',\"\").replace(\",\",\"\")\n",
    "    return eval(x)\n",
    "rooms_available_price=rooms_price[rooms_price.available==\"t\"]\n",
    "rooms_available_price.price=rooms_available_price.price.apply(str2float)\n",
    "rooms_available_price.price=rooms_available_price.price.astype(\"float64\")"
   ]
  },
  {
   "cell_type": "code",
   "execution_count": 141,
   "metadata": {
    "ExecuteTime": {
     "end_time": "2019-01-29T12:07:40.067519Z",
     "start_time": "2019-01-29T12:07:40.056153Z"
    }
   },
   "outputs": [],
   "source": [
    "def plot_change_of_price(rooms_available_price=rooms_available_price,by=\"dates\"):\n",
    "    \"\"\"\n",
    "    Function:\n",
    "        Plot the change of the average prices based on th group by results.\n",
    "    INPUT: \n",
    "        room_availabel_price--dataframe\n",
    "        by--str, name of the column to group by    \n",
    "    \"\"\"\n",
    "    average_price=rooms_available_price.groupby(by)[\"price\"].mean()\n",
    "    plt.figure(figsize=(10,7))\n",
    "    plt.plot(average_price)\n",
    "    plt.xlabel(by)\n",
    "    plt.ylabel(\"Average price $\")\n",
    "    plt.grid()\n",
    "    plt.show()"
   ]
  },
  {
   "cell_type": "code",
   "execution_count": 142,
   "metadata": {
    "ExecuteTime": {
     "end_time": "2019-01-29T12:07:40.274359Z",
     "start_time": "2019-01-29T12:07:40.069757Z"
    }
   },
   "outputs": [
    {
     "data": {
      "image/png": "[encoded data removed]",
      "text/plain": [
       "<Figure size 720x504 with 1 Axes>"
      ]
     },
     "metadata": {},
     "output_type": "display_data"
    }
   ],
   "source": [
    "plot_change_of_price(by=\"dates\")"
   ]
  },
  {
   "cell_type": "code",
   "execution_count": 143,
   "metadata": {
    "ExecuteTime": {
     "end_time": "2019-01-29T12:07:41.207002Z",
     "start_time": "2019-01-29T12:07:41.023649Z"
    }
   },
   "outputs": [
    {
     "data": {
      "image/png": "[encoded data removed]",
      "text/plain": [
       "<Figure size 720x504 with 1 Axes>"
      ]
     },
     "metadata": {},
     "output_type": "display_data"
    }
   ],
   "source": [
    "plot_change_of_price(by=\"month\")"
   ]
  },
  {
   "cell_type": "code",
   "execution_count": 144,
   "metadata": {
    "ExecuteTime": {
     "end_time": "2019-01-29T12:07:41.743570Z",
     "start_time": "2019-01-29T12:07:41.569840Z"
    }
   },
   "outputs": [
    {
     "data": {
      "image/png": "[encoded data removed]",
      "text/plain": [
       "<Figure size 720x504 with 1 Axes>"
      ]
     },
     "metadata": {},
     "output_type": "display_data"
    }
   ],
   "source": [
    "plot_change_of_price(by=\"quarter\")"
   ]
  },
  {
   "cell_type": "code",
   "execution_count": 145,
   "metadata": {
    "ExecuteTime": {
     "end_time": "2019-01-29T12:07:42.119208Z",
     "start_time": "2019-01-29T12:07:41.937834Z"
    }
   },
   "outputs": [
    {
     "data": {
      "image/png": "[encoded data removed]",
      "text/plain": [
       "<Figure size 720x504 with 1 Axes>"
      ]
     },
     "metadata": {},
     "output_type": "display_data"
    }
   ],
   "source": [
    "plot_change_of_price(by=\"weekday\")"
   ]
  },
  {
   "cell_type": "code",
   "execution_count": 146,
   "metadata": {
    "ExecuteTime": {
     "end_time": "2019-01-29T12:07:42.584388Z",
     "start_time": "2019-01-29T12:07:42.357484Z"
    }
   },
   "outputs": [
    {
     "data": {
      "image/png": "[encoded data removed]",
      "text/plain": [
       "<Figure size 720x504 with 1 Axes>"
      ]
     },
     "metadata": {},
     "output_type": "display_data"
    }
   ],
   "source": [
    "plot_change_of_price(by=\"dayofweek\")"
   ]
  },
  {
   "cell_type": "code",
   "execution_count": 147,
   "metadata": {
    "ExecuteTime": {
     "end_time": "2019-01-29T12:07:43.343361Z",
     "start_time": "2019-01-29T12:07:43.142026Z"
    }
   },
   "outputs": [
    {
     "data": {
      "image/png": "[encoded data removed]",
      "text/plain": [
       "<Figure size 720x504 with 1 Axes>"
      ]
     },
     "metadata": {},
     "output_type": "display_data"
    }
   ],
   "source": [
    "plot_change_of_price(by=\"weekofyear\")"
   ]
  },
  {
   "cell_type": "markdown",
   "metadata": {
    "ExecuteTime": {
     "end_time": "2019-01-29T11:19:51.858832Z",
     "start_time": "2019-01-29T11:19:51.848318Z"
    }
   },
   "source": [
    "# The change of occupancy rate over time."
   ]
  },
  {
   "cell_type": "code",
   "execution_count": null,
   "metadata": {
    "collapsed": true
   },
   "outputs": [],
   "source": [
    "#when lots of listings are available, it means it is not busy that day. \n",
    "#when lost of listings are not available, it means it is a busy day."
   ]
  },
  {
   "cell_type": "code",
   "execution_count": 169,
   "metadata": {
    "ExecuteTime": {
     "end_time": "2019-01-29T12:18:55.910280Z",
     "start_time": "2019-01-29T12:18:55.856333Z"
    }
   },
   "outputs": [],
   "source": [
    "listing_rooms_all=rooms_price.groupby(\"dates\")[\"listing_id\"].count()\n",
    "listing_rooms_not_available=room_not_available.groupby(\"dates\")[\"listing_id\"].count()"
   ]
  },
  {
   "cell_type": "code",
   "execution_count": 174,
   "metadata": {
    "ExecuteTime": {
     "end_time": "2019-01-29T12:25:15.128744Z",
     "start_time": "2019-01-29T12:25:15.110124Z"
    }
   },
   "outputs": [
    {
     "data": {
      "text/plain": [
       "dates\n",
       "2016-01-04    3818\n",
       "2016-01-05    3818\n",
       "2016-01-06    3818\n",
       "2016-01-07    3818\n",
       "2016-01-08    3818\n",
       "Freq: D, Name: listing_id, dtype: int64"
      ]
     },
     "execution_count": 174,
     "metadata": {},
     "output_type": "execute_result"
    }
   ],
   "source": [
    "listing_rooms_all.head()"
   ]
  },
  {
   "cell_type": "code",
   "execution_count": 177,
   "metadata": {
    "ExecuteTime": {
     "end_time": "2019-01-29T12:30:39.565738Z",
     "start_time": "2019-01-29T12:30:39.526938Z"
    }
   },
   "outputs": [
    {
     "data": {
      "text/html": [
       "<div>\n",
       "<style>\n",
       "    .dataframe thead tr:only-child th {\n",
       "        text-align: right;\n",
       "    }\n",
       "\n",
       "    .dataframe thead th {\n",
       "        text-align: left;\n",
       "    }\n",
       "\n",
       "    .dataframe tbody tr th {\n",
       "        vertical-align: top;\n",
       "    }\n",
       "</style>\n",
       "<table border=\"1\" class=\"dataframe\">\n",
       "  <thead>\n",
       "    <tr style=\"text-align: right;\">\n",
       "      <th></th>\n",
       "      <th>allCount</th>\n",
       "      <th>occupy</th>\n",
       "      <th>occupy_rate</th>\n",
       "    </tr>\n",
       "    <tr>\n",
       "      <th>dates</th>\n",
       "      <th></th>\n",
       "      <th></th>\n",
       "      <th></th>\n",
       "    </tr>\n",
       "  </thead>\n",
       "  <tbody>\n",
       "    <tr>\n",
       "      <th>2016-01-04</th>\n",
       "      <td>3818</td>\n",
       "      <td>2083</td>\n",
       "      <td>0.545574</td>\n",
       "    </tr>\n",
       "    <tr>\n",
       "      <th>2016-01-05</th>\n",
       "      <td>3818</td>\n",
       "      <td>1951</td>\n",
       "      <td>0.511001</td>\n",
       "    </tr>\n",
       "    <tr>\n",
       "      <th>2016-01-06</th>\n",
       "      <td>3818</td>\n",
       "      <td>1992</td>\n",
       "      <td>0.521739</td>\n",
       "    </tr>\n",
       "    <tr>\n",
       "      <th>2016-01-07</th>\n",
       "      <td>3818</td>\n",
       "      <td>2042</td>\n",
       "      <td>0.534835</td>\n",
       "    </tr>\n",
       "    <tr>\n",
       "      <th>2016-01-08</th>\n",
       "      <td>3818</td>\n",
       "      <td>2036</td>\n",
       "      <td>0.533263</td>\n",
       "    </tr>\n",
       "  </tbody>\n",
       "</table>\n",
       "</div>"
      ],
      "text/plain": [
       "            allCount  occupy  occupy_rate\n",
       "dates                                    \n",
       "2016-01-04      3818    2083     0.545574\n",
       "2016-01-05      3818    1951     0.511001\n",
       "2016-01-06      3818    1992     0.521739\n",
       "2016-01-07      3818    2042     0.534835\n",
       "2016-01-08      3818    2036     0.533263"
      ]
     },
     "execution_count": 177,
     "metadata": {},
     "output_type": "execute_result"
    }
   ],
   "source": [
    "room_count=pd.DataFrame([listing_rooms_all,listing_rooms_not_available]).T\n",
    "room_count.columns=[\"allCount\",\"occupy\"]\n",
    "room_count[\"occupy_rate\"]=room_count.occupy/room_count.allCount\n",
    "room_count.head()"
   ]
  },
  {
   "cell_type": "code",
   "execution_count": 180,
   "metadata": {
    "ExecuteTime": {
     "end_time": "2019-01-29T12:33:59.410347Z",
     "start_time": "2019-01-29T12:33:59.373234Z"
    },
    "collapsed": true
   },
   "outputs": [],
   "source": [
    "room_count['dates']=pd.to_datetime(room_count.index)\n",
    "room_count[\"month\"]=room_count['dates'].dt.month\n",
    "room_count['quarter']=room_count['dates'].dt.quarter\n",
    "room_count['weekday']=room_count['dates'].dt.weekday+1  # pluse 1 on the results, the number indicates the weekday ex, 1->Monday 2->Tuesday....\n",
    "room_count['dayofweek']=room_count['dates'].dt.dayofweek+1 # pluse 1 on the results, the number indicates the weekday ex, 1->Monday 2->Tuesday....\n",
    "room_count['weekofyear']=room_count['dates'].dt.weekofyear\n",
    "room_count['dayofyear']=room_count['dates'].dt.dayofyear"
   ]
  },
  {
   "cell_type": "code",
   "execution_count": 224,
   "metadata": {
    "ExecuteTime": {
     "end_time": "2019-01-30T00:36:44.794324Z",
     "start_time": "2019-01-30T00:36:44.773255Z"
    },
    "collapsed": true
   },
   "outputs": [],
   "source": [
    "def plot_change_of_occupy_rate(data=room_count,by=\"dates\"):\n",
    "    occupy_rate=data.groupby(by)[\"occupy_rate\"].mean()\n",
    "    plt.figure(figsize=(10,7))\n",
    "    plt.plot(occupy_rate)\n",
    "    plt.xlabel(by)\n",
    "    plt.ylabel(\"occupy_rate\")\n",
    "    plt.grid()\n",
    "    plt.show()"
   ]
  },
  {
   "cell_type": "code",
   "execution_count": 226,
   "metadata": {
    "ExecuteTime": {
     "end_time": "2019-01-30T00:37:48.614023Z",
     "start_time": "2019-01-30T00:37:48.417416Z"
    }
   },
   "outputs": [
    {
     "data": {
      "image/png": "[encoded data removed]",
      "text/plain": [
       "<Figure size 720x504 with 1 Axes>"
      ]
     },
     "metadata": {},
     "output_type": "display_data"
    }
   ],
   "source": [
    "plot_change_of_occupy_rate(data=room_count,by=\"dates\")"
   ]
  },
  {
   "cell_type": "markdown",
   "metadata": {},
   "source": [
    "#### The results don't make sense. 1. there is a jump in April and July. 2 We expect the occupy rate should be a periodic function by year. However the values have a huge difference between January 2016 and 2017.\n",
    "\n",
    "#### The possible reason for this results: When some new rooms add into the listings in the later time of the year, they create these rooms all over the year in the data set and label them as \"not available\" before the date when the new rooms get into the market. "
   ]
  },
  {
   "cell_type": "code",
   "execution_count": 225,
   "metadata": {
    "ExecuteTime": {
     "end_time": "2019-01-30T00:36:50.962130Z",
     "start_time": "2019-01-30T00:36:50.781968Z"
    }
   },
   "outputs": [
    {
     "data": {
      "image/png": "[encoded data removed]",
      "text/plain": [
       "<Figure size 720x504 with 1 Axes>"
      ]
     },
     "metadata": {},
     "output_type": "display_data"
    }
   ],
   "source": [
    "plot_change_of_occupy_rate(data=room_count,by=\"weekday\")"
   ]
  },
  {
   "cell_type": "markdown",
   "metadata": {},
   "source": [
    "# Where are the rooms with the cheapest price?"
   ]
  },
  {
   "cell_type": "code",
   "execution_count": 228,
   "metadata": {
    "ExecuteTime": {
     "end_time": "2019-01-30T02:34:23.653219Z",
     "start_time": "2019-01-30T02:34:23.647617Z"
    }
   },
   "outputs": [
    {
     "data": {
      "text/plain": [
       "Index(['id', 'listing_url', 'scrape_id', 'last_scraped', 'name', 'summary',\n",
       "       'space', 'description', 'experiences_offered', 'neighborhood_overview',\n",
       "       'notes', 'transit', 'thumbnail_url', 'medium_url', 'picture_url',\n",
       "       'xl_picture_url', 'host_id', 'host_url', 'host_name', 'host_since',\n",
       "       'host_location', 'host_about', 'host_response_time',\n",
       "       'host_response_rate', 'host_acceptance_rate', 'host_is_superhost',\n",
       "       'host_thumbnail_url', 'host_picture_url', 'host_neighbourhood',\n",
       "       'host_listings_count', 'host_total_listings_count',\n",
       "       'host_verifications', 'host_has_profile_pic', 'host_identity_verified',\n",
       "       'street', 'neighbourhood', 'neighbourhood_cleansed',\n",
       "       'neighbourhood_group_cleansed', 'city', 'state', 'zipcode', 'market',\n",
       "       'smart_location', 'country_code', 'country', 'latitude', 'longitude',\n",
       "       'is_location_exact', 'property_type', 'room_type', 'accommodates',\n",
       "       'bathrooms', 'bedrooms', 'beds', 'bed_type', 'amenities', 'square_feet',\n",
       "       'price', 'weekly_price', 'monthly_price', 'security_deposit',\n",
       "       'cleaning_fee', 'guests_included', 'extra_people', 'minimum_nights',\n",
       "       'maximum_nights', 'calendar_updated', 'has_availability',\n",
       "       'availability_30', 'availability_60', 'availability_90',\n",
       "       'availability_365', 'calendar_last_scraped', 'number_of_reviews',\n",
       "       'first_review', 'last_review', 'review_scores_rating',\n",
       "       'review_scores_accuracy', 'review_scores_cleanliness',\n",
       "       'review_scores_checkin', 'review_scores_communication',\n",
       "       'review_scores_location', 'review_scores_value', 'requires_license',\n",
       "       'license', 'jurisdiction_names', 'instant_bookable',\n",
       "       'cancellation_policy', 'require_guest_profile_picture',\n",
       "       'require_guest_phone_verification', 'calculated_host_listings_count',\n",
       "       'reviews_per_month'],\n",
       "      dtype='object')"
      ]
     },
     "execution_count": 228,
     "metadata": {},
     "output_type": "execute_result"
    }
   ],
   "source": [
    "#to answer this question, we uset the dataset of \"listings\"\n",
    "listings.columns"
   ]
  },
  {
   "cell_type": "code",
   "execution_count": 244,
   "metadata": {
    "ExecuteTime": {
     "end_time": "2019-01-30T02:44:34.989721Z",
     "start_time": "2019-01-30T02:44:34.941749Z"
    }
   },
   "outputs": [],
   "source": [
    "listings[\"price_eval\"]=listings.price.apply(str2float)\n",
    "listings_dropna=listings.dropna(subset=['host_neighbourhood'])"
   ]
  },
  {
   "cell_type": "code",
   "execution_count": 254,
   "metadata": {
    "ExecuteTime": {
     "end_time": "2019-01-30T02:52:01.152661Z",
     "start_time": "2019-01-30T02:52:01.135686Z"
    }
   },
   "outputs": [],
   "source": [
    "neighbourhood_rank=listings_dropna.groupby(\"host_neighbourhood\")[\"price_eval\"].mean()\n",
    "neighbourhood_count=listings_dropna.groupby(\"host_neighbourhood\")[\"price_eval\"].count()"
   ]
  },
  {
   "cell_type": "code",
   "execution_count": 249,
   "metadata": {
    "ExecuteTime": {
     "end_time": "2019-01-30T02:47:21.643867Z",
     "start_time": "2019-01-30T02:47:21.627256Z"
    }
   },
   "outputs": [
    {
     "data": {
      "text/plain": [
       "128.72740193291642"
      ]
     },
     "execution_count": 249,
     "metadata": {},
     "output_type": "execute_result"
    }
   ],
   "source": [
    "listings_dropna.price_eval.mean()"
   ]
  },
  {
   "cell_type": "code",
   "execution_count": 264,
   "metadata": {
    "ExecuteTime": {
     "end_time": "2019-01-30T05:45:48.807645Z",
     "start_time": "2019-01-30T05:45:48.788100Z"
    }
   },
   "outputs": [],
   "source": [
    "neigh_price=pd.concat([neighbourhood_rank, neighbourhood_count], axis=1).reset_index()\n",
    "neigh_price.columns=['neighbourhood','avg_price',\"num\"]"
   ]
  },
  {
   "cell_type": "code",
   "execution_count": 265,
   "metadata": {
    "ExecuteTime": {
     "end_time": "2019-01-30T05:45:49.410692Z",
     "start_time": "2019-01-30T05:45:49.380761Z"
    }
   },
   "outputs": [
    {
     "data": {
      "text/html": [
       "<div>\n",
       "<style>\n",
       "    .dataframe thead tr:only-child th {\n",
       "        text-align: right;\n",
       "    }\n",
       "\n",
       "    .dataframe thead th {\n",
       "        text-align: left;\n",
       "    }\n",
       "\n",
       "    .dataframe tbody tr th {\n",
       "        vertical-align: top;\n",
       "    }\n",
       "</style>\n",
       "<table border=\"1\" class=\"dataframe\">\n",
       "  <thead>\n",
       "    <tr style=\"text-align: right;\">\n",
       "      <th></th>\n",
       "      <th>neighbourhood</th>\n",
       "      <th>avg_price</th>\n",
       "      <th>num</th>\n",
       "    </tr>\n",
       "  </thead>\n",
       "  <tbody>\n",
       "    <tr>\n",
       "      <th>0</th>\n",
       "      <td>Alki</td>\n",
       "      <td>182.090909</td>\n",
       "      <td>22</td>\n",
       "    </tr>\n",
       "    <tr>\n",
       "      <th>1</th>\n",
       "      <td>Anaheim</td>\n",
       "      <td>173.285714</td>\n",
       "      <td>7</td>\n",
       "    </tr>\n",
       "    <tr>\n",
       "      <th>2</th>\n",
       "      <td>Arbor Heights</td>\n",
       "      <td>118.000000</td>\n",
       "      <td>3</td>\n",
       "    </tr>\n",
       "    <tr>\n",
       "      <th>3</th>\n",
       "      <td>Atlantic</td>\n",
       "      <td>112.714286</td>\n",
       "      <td>49</td>\n",
       "    </tr>\n",
       "    <tr>\n",
       "      <th>4</th>\n",
       "      <td>Baldwin Hills</td>\n",
       "      <td>75.000000</td>\n",
       "      <td>1</td>\n",
       "    </tr>\n",
       "  </tbody>\n",
       "</table>\n",
       "</div>"
      ],
      "text/plain": [
       "   neighbourhood   avg_price  num\n",
       "0           Alki  182.090909   22\n",
       "1        Anaheim  173.285714    7\n",
       "2  Arbor Heights  118.000000    3\n",
       "3       Atlantic  112.714286   49\n",
       "4  Baldwin Hills   75.000000    1"
      ]
     },
     "execution_count": 265,
     "metadata": {},
     "output_type": "execute_result"
    }
   ],
   "source": [
    "#only choose the neighbourhood with more than 2 listings\n",
    "neigh_price.head()"
   ]
  },
  {
   "cell_type": "code",
   "execution_count": 305,
   "metadata": {
    "ExecuteTime": {
     "end_time": "2019-01-30T09:02:58.071961Z",
     "start_time": "2019-01-30T09:02:57.810545Z"
    }
   },
   "outputs": [
    {
     "data": {
      "image/png": "[encoded data removed]",
      "text/plain": [
       "<Figure size 720x504 with 1 Axes>"
      ]
     },
     "metadata": {},
     "output_type": "display_data"
    }
   ],
   "source": [
    "popular_neigh_price=neigh_price[neigh_price[\"num\"]>50].sort_values(\"avg_price\",ascending=False)\n",
    "plt.figure(figsize=(10,7))\n",
    "plt.barh(popular_neigh_price.neighbourhood.values,popular_neigh_price[\"avg_price\"].values,)\n",
    "#plt.xticks(rotation=90)\n",
    "plt.xlabel(\"The average price in each neighbourhood ($)\")\n",
    "plt.show()"
   ]
  },
  {
   "cell_type": "code",
   "execution_count": 307,
   "metadata": {
    "ExecuteTime": {
     "end_time": "2019-01-30T09:03:39.724886Z",
     "start_time": "2019-01-30T09:03:39.704120Z"
    }
   },
   "outputs": [
    {
     "data": {
      "text/html": [
       "<div>\n",
       "<style>\n",
       "    .dataframe thead tr:only-child th {\n",
       "        text-align: right;\n",
       "    }\n",
       "\n",
       "    .dataframe thead th {\n",
       "        text-align: left;\n",
       "    }\n",
       "\n",
       "    .dataframe tbody tr th {\n",
       "        vertical-align: top;\n",
       "    }\n",
       "</style>\n",
       "<table border=\"1\" class=\"dataframe\">\n",
       "  <thead>\n",
       "    <tr style=\"text-align: right;\">\n",
       "      <th></th>\n",
       "      <th>neighbourhood</th>\n",
       "      <th>avg_price</th>\n",
       "      <th>num</th>\n",
       "    </tr>\n",
       "  </thead>\n",
       "  <tbody>\n",
       "    <tr>\n",
       "      <th>93</th>\n",
       "      <td>University District</td>\n",
       "      <td>82.112500</td>\n",
       "      <td>80</td>\n",
       "    </tr>\n",
       "    <tr>\n",
       "      <th>67</th>\n",
       "      <td>North Beacon Hill</td>\n",
       "      <td>90.396040</td>\n",
       "      <td>101</td>\n",
       "    </tr>\n",
       "    <tr>\n",
       "      <th>33</th>\n",
       "      <td>Greenwood</td>\n",
       "      <td>95.450000</td>\n",
       "      <td>80</td>\n",
       "    </tr>\n",
       "    <tr>\n",
       "      <th>18</th>\n",
       "      <td>Columbia City</td>\n",
       "      <td>99.360656</td>\n",
       "      <td>61</td>\n",
       "    </tr>\n",
       "    <tr>\n",
       "      <th>80</th>\n",
       "      <td>Ravenna</td>\n",
       "      <td>102.580000</td>\n",
       "      <td>100</td>\n",
       "    </tr>\n",
       "    <tr>\n",
       "      <th>5</th>\n",
       "      <td>Ballard</td>\n",
       "      <td>120.104762</td>\n",
       "      <td>210</td>\n",
       "    </tr>\n",
       "    <tr>\n",
       "      <th>13</th>\n",
       "      <td>Capitol Hill</td>\n",
       "      <td>121.325926</td>\n",
       "      <td>405</td>\n",
       "    </tr>\n",
       "    <tr>\n",
       "      <th>28</th>\n",
       "      <td>Fremont</td>\n",
       "      <td>123.761905</td>\n",
       "      <td>147</td>\n",
       "    </tr>\n",
       "    <tr>\n",
       "      <th>61</th>\n",
       "      <td>Minor</td>\n",
       "      <td>126.350785</td>\n",
       "      <td>191</td>\n",
       "    </tr>\n",
       "    <tr>\n",
       "      <th>26</th>\n",
       "      <td>First Hill</td>\n",
       "      <td>134.470588</td>\n",
       "      <td>85</td>\n",
       "    </tr>\n",
       "    <tr>\n",
       "      <th>73</th>\n",
       "      <td>Phinney Ridge</td>\n",
       "      <td>136.153846</td>\n",
       "      <td>52</td>\n",
       "    </tr>\n",
       "    <tr>\n",
       "      <th>91</th>\n",
       "      <td>Stevens</td>\n",
       "      <td>138.827586</td>\n",
       "      <td>87</td>\n",
       "    </tr>\n",
       "    <tr>\n",
       "      <th>53</th>\n",
       "      <td>Lower Queen Anne</td>\n",
       "      <td>139.000000</td>\n",
       "      <td>75</td>\n",
       "    </tr>\n",
       "    <tr>\n",
       "      <th>97</th>\n",
       "      <td>Wallingford</td>\n",
       "      <td>142.320896</td>\n",
       "      <td>134</td>\n",
       "    </tr>\n",
       "    <tr>\n",
       "      <th>15</th>\n",
       "      <td>Central Business District</td>\n",
       "      <td>148.053763</td>\n",
       "      <td>93</td>\n",
       "    </tr>\n",
       "    <tr>\n",
       "      <th>32</th>\n",
       "      <td>Green Lake</td>\n",
       "      <td>150.345455</td>\n",
       "      <td>55</td>\n",
       "    </tr>\n",
       "    <tr>\n",
       "      <th>65</th>\n",
       "      <td>North Admiral</td>\n",
       "      <td>150.698113</td>\n",
       "      <td>53</td>\n",
       "    </tr>\n",
       "    <tr>\n",
       "      <th>6</th>\n",
       "      <td>Belltown</td>\n",
       "      <td>167.220472</td>\n",
       "      <td>254</td>\n",
       "    </tr>\n",
       "    <tr>\n",
       "      <th>78</th>\n",
       "      <td>Queen Anne</td>\n",
       "      <td>170.264550</td>\n",
       "      <td>189</td>\n",
       "    </tr>\n",
       "    <tr>\n",
       "      <th>56</th>\n",
       "      <td>Magnolia</td>\n",
       "      <td>172.735849</td>\n",
       "      <td>53</td>\n",
       "    </tr>\n",
       "  </tbody>\n",
       "</table>\n",
       "</div>"
      ],
      "text/plain": [
       "                neighbourhood   avg_price  num\n",
       "93        University District   82.112500   80\n",
       "67          North Beacon Hill   90.396040  101\n",
       "33                  Greenwood   95.450000   80\n",
       "18              Columbia City   99.360656   61\n",
       "80                    Ravenna  102.580000  100\n",
       "5                     Ballard  120.104762  210\n",
       "13               Capitol Hill  121.325926  405\n",
       "28                    Fremont  123.761905  147\n",
       "61                      Minor  126.350785  191\n",
       "26                 First Hill  134.470588   85\n",
       "73              Phinney Ridge  136.153846   52\n",
       "91                    Stevens  138.827586   87\n",
       "53           Lower Queen Anne  139.000000   75\n",
       "97                Wallingford  142.320896  134\n",
       "15  Central Business District  148.053763   93\n",
       "32                 Green Lake  150.345455   55\n",
       "65              North Admiral  150.698113   53\n",
       "6                    Belltown  167.220472  254\n",
       "78                 Queen Anne  170.264550  189\n",
       "56                   Magnolia  172.735849   53"
      ]
     },
     "execution_count": 307,
     "metadata": {},
     "output_type": "execute_result"
    }
   ],
   "source": [
    "popular_neigh_price.sort_values(\"avg_price\")"
   ]
  },
  {
   "cell_type": "code",
   "execution_count": 302,
   "metadata": {
    "ExecuteTime": {
     "end_time": "2019-01-30T08:36:34.597855Z",
     "start_time": "2019-01-30T08:36:34.334858Z"
    }
   },
   "outputs": [
    {
     "data": {
      "image/png": "[encoded data removed]",
      "text/plain": [
       "<Figure size 720x504 with 1 Axes>"
      ]
     },
     "metadata": {},
     "output_type": "display_data"
    }
   ],
   "source": [
    "popular_neigh_rank=neigh_price.sort_values(\"num\",ascending=False)\n",
    "plt.figure(figsize=(10,7))\n",
    "plt.barh(popular_neigh_rank.neighbourhood.values[:20][::-1],popular_neigh_rank[\"num\"].values[:20][::-1],)\n",
    "plt.xlabel(\"Number of listings in each neighbourhood\")\n",
    "#plt.xticks(rotation=90)\n",
    "plt.show()"
   ]
  },
  {
   "cell_type": "code",
   "execution_count": 304,
   "metadata": {
    "ExecuteTime": {
     "end_time": "2019-01-30T08:58:41.692448Z",
     "start_time": "2019-01-30T08:58:41.658517Z"
    }
   },
   "outputs": [
    {
     "data": {
      "text/html": [
       "<div>\n",
       "<style>\n",
       "    .dataframe thead tr:only-child th {\n",
       "        text-align: right;\n",
       "    }\n",
       "\n",
       "    .dataframe thead th {\n",
       "        text-align: left;\n",
       "    }\n",
       "\n",
       "    .dataframe tbody tr th {\n",
       "        vertical-align: top;\n",
       "    }\n",
       "</style>\n",
       "<table border=\"1\" class=\"dataframe\">\n",
       "  <thead>\n",
       "    <tr style=\"text-align: right;\">\n",
       "      <th></th>\n",
       "      <th>neighbourhood</th>\n",
       "      <th>avg_price</th>\n",
       "      <th>num</th>\n",
       "    </tr>\n",
       "  </thead>\n",
       "  <tbody>\n",
       "    <tr>\n",
       "      <th>13</th>\n",
       "      <td>Capitol Hill</td>\n",
       "      <td>121.325926</td>\n",
       "      <td>405</td>\n",
       "    </tr>\n",
       "    <tr>\n",
       "      <th>6</th>\n",
       "      <td>Belltown</td>\n",
       "      <td>167.220472</td>\n",
       "      <td>254</td>\n",
       "    </tr>\n",
       "    <tr>\n",
       "      <th>5</th>\n",
       "      <td>Ballard</td>\n",
       "      <td>120.104762</td>\n",
       "      <td>210</td>\n",
       "    </tr>\n",
       "    <tr>\n",
       "      <th>61</th>\n",
       "      <td>Minor</td>\n",
       "      <td>126.350785</td>\n",
       "      <td>191</td>\n",
       "    </tr>\n",
       "    <tr>\n",
       "      <th>78</th>\n",
       "      <td>Queen Anne</td>\n",
       "      <td>170.264550</td>\n",
       "      <td>189</td>\n",
       "    </tr>\n",
       "    <tr>\n",
       "      <th>28</th>\n",
       "      <td>Fremont</td>\n",
       "      <td>123.761905</td>\n",
       "      <td>147</td>\n",
       "    </tr>\n",
       "    <tr>\n",
       "      <th>97</th>\n",
       "      <td>Wallingford</td>\n",
       "      <td>142.320896</td>\n",
       "      <td>134</td>\n",
       "    </tr>\n",
       "    <tr>\n",
       "      <th>67</th>\n",
       "      <td>North Beacon Hill</td>\n",
       "      <td>90.396040</td>\n",
       "      <td>101</td>\n",
       "    </tr>\n",
       "    <tr>\n",
       "      <th>80</th>\n",
       "      <td>Ravenna</td>\n",
       "      <td>102.580000</td>\n",
       "      <td>100</td>\n",
       "    </tr>\n",
       "    <tr>\n",
       "      <th>15</th>\n",
       "      <td>Central Business District</td>\n",
       "      <td>148.053763</td>\n",
       "      <td>93</td>\n",
       "    </tr>\n",
       "    <tr>\n",
       "      <th>91</th>\n",
       "      <td>Stevens</td>\n",
       "      <td>138.827586</td>\n",
       "      <td>87</td>\n",
       "    </tr>\n",
       "    <tr>\n",
       "      <th>26</th>\n",
       "      <td>First Hill</td>\n",
       "      <td>134.470588</td>\n",
       "      <td>85</td>\n",
       "    </tr>\n",
       "    <tr>\n",
       "      <th>93</th>\n",
       "      <td>University District</td>\n",
       "      <td>82.112500</td>\n",
       "      <td>80</td>\n",
       "    </tr>\n",
       "    <tr>\n",
       "      <th>33</th>\n",
       "      <td>Greenwood</td>\n",
       "      <td>95.450000</td>\n",
       "      <td>80</td>\n",
       "    </tr>\n",
       "    <tr>\n",
       "      <th>53</th>\n",
       "      <td>Lower Queen Anne</td>\n",
       "      <td>139.000000</td>\n",
       "      <td>75</td>\n",
       "    </tr>\n",
       "    <tr>\n",
       "      <th>18</th>\n",
       "      <td>Columbia City</td>\n",
       "      <td>99.360656</td>\n",
       "      <td>61</td>\n",
       "    </tr>\n",
       "    <tr>\n",
       "      <th>32</th>\n",
       "      <td>Green Lake</td>\n",
       "      <td>150.345455</td>\n",
       "      <td>55</td>\n",
       "    </tr>\n",
       "    <tr>\n",
       "      <th>65</th>\n",
       "      <td>North Admiral</td>\n",
       "      <td>150.698113</td>\n",
       "      <td>53</td>\n",
       "    </tr>\n",
       "    <tr>\n",
       "      <th>56</th>\n",
       "      <td>Magnolia</td>\n",
       "      <td>172.735849</td>\n",
       "      <td>53</td>\n",
       "    </tr>\n",
       "    <tr>\n",
       "      <th>73</th>\n",
       "      <td>Phinney Ridge</td>\n",
       "      <td>136.153846</td>\n",
       "      <td>52</td>\n",
       "    </tr>\n",
       "    <tr>\n",
       "      <th>3</th>\n",
       "      <td>Atlantic</td>\n",
       "      <td>112.714286</td>\n",
       "      <td>49</td>\n",
       "    </tr>\n",
       "    <tr>\n",
       "      <th>50</th>\n",
       "      <td>Leschi</td>\n",
       "      <td>131.369565</td>\n",
       "      <td>46</td>\n",
       "    </tr>\n",
       "    <tr>\n",
       "      <th>64</th>\n",
       "      <td>Mount Baker</td>\n",
       "      <td>93.977273</td>\n",
       "      <td>44</td>\n",
       "    </tr>\n",
       "    <tr>\n",
       "      <th>23</th>\n",
       "      <td>Eastlake</td>\n",
       "      <td>105.309524</td>\n",
       "      <td>42</td>\n",
       "    </tr>\n",
       "    <tr>\n",
       "      <th>58</th>\n",
       "      <td>Maple Leaf</td>\n",
       "      <td>81.525000</td>\n",
       "      <td>40</td>\n",
       "    </tr>\n",
       "    <tr>\n",
       "      <th>55</th>\n",
       "      <td>Madrona</td>\n",
       "      <td>139.925000</td>\n",
       "      <td>40</td>\n",
       "    </tr>\n",
       "    <tr>\n",
       "      <th>92</th>\n",
       "      <td>The Junction</td>\n",
       "      <td>122.846154</td>\n",
       "      <td>39</td>\n",
       "    </tr>\n",
       "    <tr>\n",
       "      <th>82</th>\n",
       "      <td>Roosevelt</td>\n",
       "      <td>102.718750</td>\n",
       "      <td>32</td>\n",
       "    </tr>\n",
       "    <tr>\n",
       "      <th>74</th>\n",
       "      <td>Pike Place Market</td>\n",
       "      <td>182.032258</td>\n",
       "      <td>31</td>\n",
       "    </tr>\n",
       "    <tr>\n",
       "      <th>30</th>\n",
       "      <td>Genesee</td>\n",
       "      <td>129.466667</td>\n",
       "      <td>30</td>\n",
       "    </tr>\n",
       "    <tr>\n",
       "      <th>...</th>\n",
       "      <td>...</td>\n",
       "      <td>...</td>\n",
       "      <td>...</td>\n",
       "    </tr>\n",
       "    <tr>\n",
       "      <th>40</th>\n",
       "      <td>Holly Park</td>\n",
       "      <td>79.166667</td>\n",
       "      <td>6</td>\n",
       "    </tr>\n",
       "    <tr>\n",
       "      <th>9</th>\n",
       "      <td>Brighton</td>\n",
       "      <td>78.000000</td>\n",
       "      <td>5</td>\n",
       "    </tr>\n",
       "    <tr>\n",
       "      <th>11</th>\n",
       "      <td>Broadway</td>\n",
       "      <td>125.400000</td>\n",
       "      <td>5</td>\n",
       "    </tr>\n",
       "    <tr>\n",
       "      <th>44</th>\n",
       "      <td>Interbay</td>\n",
       "      <td>86.000000</td>\n",
       "      <td>4</td>\n",
       "    </tr>\n",
       "    <tr>\n",
       "      <th>2</th>\n",
       "      <td>Arbor Heights</td>\n",
       "      <td>118.000000</td>\n",
       "      <td>3</td>\n",
       "    </tr>\n",
       "    <tr>\n",
       "      <th>43</th>\n",
       "      <td>Industrial District</td>\n",
       "      <td>245.000000</td>\n",
       "      <td>3</td>\n",
       "    </tr>\n",
       "    <tr>\n",
       "      <th>25</th>\n",
       "      <td>Fenway/Kenmore</td>\n",
       "      <td>324.000000</td>\n",
       "      <td>2</td>\n",
       "    </tr>\n",
       "    <tr>\n",
       "      <th>62</th>\n",
       "      <td>Mission District</td>\n",
       "      <td>132.000000</td>\n",
       "      <td>2</td>\n",
       "    </tr>\n",
       "    <tr>\n",
       "      <th>47</th>\n",
       "      <td>Kaanapali</td>\n",
       "      <td>377.500000</td>\n",
       "      <td>2</td>\n",
       "    </tr>\n",
       "    <tr>\n",
       "      <th>46</th>\n",
       "      <td>Jamaica Plain</td>\n",
       "      <td>85.000000</td>\n",
       "      <td>2</td>\n",
       "    </tr>\n",
       "    <tr>\n",
       "      <th>57</th>\n",
       "      <td>Manhattan Beach</td>\n",
       "      <td>159.000000</td>\n",
       "      <td>1</td>\n",
       "    </tr>\n",
       "    <tr>\n",
       "      <th>16</th>\n",
       "      <td>Central San Pedro</td>\n",
       "      <td>122.000000</td>\n",
       "      <td>1</td>\n",
       "    </tr>\n",
       "    <tr>\n",
       "      <th>48</th>\n",
       "      <td>Kauaʻi</td>\n",
       "      <td>350.000000</td>\n",
       "      <td>1</td>\n",
       "    </tr>\n",
       "    <tr>\n",
       "      <th>4</th>\n",
       "      <td>Baldwin Hills</td>\n",
       "      <td>75.000000</td>\n",
       "      <td>1</td>\n",
       "    </tr>\n",
       "    <tr>\n",
       "      <th>7</th>\n",
       "      <td>Beverly Hills</td>\n",
       "      <td>375.000000</td>\n",
       "      <td>1</td>\n",
       "    </tr>\n",
       "    <tr>\n",
       "      <th>96</th>\n",
       "      <td>Waianae Coast</td>\n",
       "      <td>150.000000</td>\n",
       "      <td>1</td>\n",
       "    </tr>\n",
       "    <tr>\n",
       "      <th>42</th>\n",
       "      <td>Huntington Beach</td>\n",
       "      <td>85.000000</td>\n",
       "      <td>1</td>\n",
       "    </tr>\n",
       "    <tr>\n",
       "      <th>68</th>\n",
       "      <td>North College Park</td>\n",
       "      <td>99.000000</td>\n",
       "      <td>1</td>\n",
       "    </tr>\n",
       "    <tr>\n",
       "      <th>70</th>\n",
       "      <td>North Hollywood</td>\n",
       "      <td>100.000000</td>\n",
       "      <td>1</td>\n",
       "    </tr>\n",
       "    <tr>\n",
       "      <th>27</th>\n",
       "      <td>Forestland</td>\n",
       "      <td>106.000000</td>\n",
       "      <td>1</td>\n",
       "    </tr>\n",
       "    <tr>\n",
       "      <th>17</th>\n",
       "      <td>Clairemont Mesa East</td>\n",
       "      <td>93.000000</td>\n",
       "      <td>1</td>\n",
       "    </tr>\n",
       "    <tr>\n",
       "      <th>71</th>\n",
       "      <td>Northwest District</td>\n",
       "      <td>107.000000</td>\n",
       "      <td>1</td>\n",
       "    </tr>\n",
       "    <tr>\n",
       "      <th>87</th>\n",
       "      <td>South Beacon Hill</td>\n",
       "      <td>60.000000</td>\n",
       "      <td>1</td>\n",
       "    </tr>\n",
       "    <tr>\n",
       "      <th>20</th>\n",
       "      <td>Downtown Toronto</td>\n",
       "      <td>110.000000</td>\n",
       "      <td>1</td>\n",
       "    </tr>\n",
       "    <tr>\n",
       "      <th>75</th>\n",
       "      <td>Pinehurst</td>\n",
       "      <td>125.000000</td>\n",
       "      <td>1</td>\n",
       "    </tr>\n",
       "    <tr>\n",
       "      <th>84</th>\n",
       "      <td>Santa Monica</td>\n",
       "      <td>50.000000</td>\n",
       "      <td>1</td>\n",
       "    </tr>\n",
       "    <tr>\n",
       "      <th>83</th>\n",
       "      <td>Roxhill</td>\n",
       "      <td>60.000000</td>\n",
       "      <td>1</td>\n",
       "    </tr>\n",
       "    <tr>\n",
       "      <th>22</th>\n",
       "      <td>East Village</td>\n",
       "      <td>229.000000</td>\n",
       "      <td>1</td>\n",
       "    </tr>\n",
       "    <tr>\n",
       "      <th>36</th>\n",
       "      <td>Hell's Kitchen</td>\n",
       "      <td>100.000000</td>\n",
       "      <td>1</td>\n",
       "    </tr>\n",
       "    <tr>\n",
       "      <th>52</th>\n",
       "      <td>Long Beach</td>\n",
       "      <td>140.000000</td>\n",
       "      <td>1</td>\n",
       "    </tr>\n",
       "  </tbody>\n",
       "</table>\n",
       "<p>102 rows × 3 columns</p>\n",
       "</div>"
      ],
      "text/plain": [
       "                neighbourhood   avg_price  num\n",
       "13               Capitol Hill  121.325926  405\n",
       "6                    Belltown  167.220472  254\n",
       "5                     Ballard  120.104762  210\n",
       "61                      Minor  126.350785  191\n",
       "78                 Queen Anne  170.264550  189\n",
       "28                    Fremont  123.761905  147\n",
       "97                Wallingford  142.320896  134\n",
       "67          North Beacon Hill   90.396040  101\n",
       "80                    Ravenna  102.580000  100\n",
       "15  Central Business District  148.053763   93\n",
       "91                    Stevens  138.827586   87\n",
       "26                 First Hill  134.470588   85\n",
       "93        University District   82.112500   80\n",
       "33                  Greenwood   95.450000   80\n",
       "53           Lower Queen Anne  139.000000   75\n",
       "18              Columbia City   99.360656   61\n",
       "32                 Green Lake  150.345455   55\n",
       "65              North Admiral  150.698113   53\n",
       "56                   Magnolia  172.735849   53\n",
       "73              Phinney Ridge  136.153846   52\n",
       "3                    Atlantic  112.714286   49\n",
       "50                     Leschi  131.369565   46\n",
       "64                Mount Baker   93.977273   44\n",
       "23                   Eastlake  105.309524   42\n",
       "58                 Maple Leaf   81.525000   40\n",
       "55                    Madrona  139.925000   40\n",
       "92               The Junction  122.846154   39\n",
       "82                  Roosevelt  102.718750   32\n",
       "74          Pike Place Market  182.032258   31\n",
       "30                    Genesee  129.466667   30\n",
       "..                        ...         ...  ...\n",
       "40                 Holly Park   79.166667    6\n",
       "9                    Brighton   78.000000    5\n",
       "11                   Broadway  125.400000    5\n",
       "44                   Interbay   86.000000    4\n",
       "2               Arbor Heights  118.000000    3\n",
       "43        Industrial District  245.000000    3\n",
       "25             Fenway/Kenmore  324.000000    2\n",
       "62           Mission District  132.000000    2\n",
       "47                  Kaanapali  377.500000    2\n",
       "46              Jamaica Plain   85.000000    2\n",
       "57            Manhattan Beach  159.000000    1\n",
       "16          Central San Pedro  122.000000    1\n",
       "48                     Kauaʻi  350.000000    1\n",
       "4               Baldwin Hills   75.000000    1\n",
       "7               Beverly Hills  375.000000    1\n",
       "96              Waianae Coast  150.000000    1\n",
       "42           Huntington Beach   85.000000    1\n",
       "68         North College Park   99.000000    1\n",
       "70            North Hollywood  100.000000    1\n",
       "27                 Forestland  106.000000    1\n",
       "17       Clairemont Mesa East   93.000000    1\n",
       "71         Northwest District  107.000000    1\n",
       "87          South Beacon Hill   60.000000    1\n",
       "20           Downtown Toronto  110.000000    1\n",
       "75                  Pinehurst  125.000000    1\n",
       "84               Santa Monica   50.000000    1\n",
       "83                    Roxhill   60.000000    1\n",
       "22               East Village  229.000000    1\n",
       "36             Hell's Kitchen  100.000000    1\n",
       "52                 Long Beach  140.000000    1\n",
       "\n",
       "[102 rows x 3 columns]"
      ]
     },
     "execution_count": 304,
     "metadata": {},
     "output_type": "execute_result"
    }
   ],
   "source": [
    "popular_neigh_rank"
   ]
  },
  {
   "cell_type": "code",
   "execution_count": null,
   "metadata": {
    "collapsed": true
   },
   "outputs": [],
   "source": []
  }
 ],
 "metadata": {
  "kernelspec": {
   "display_name": "Python 3",
   "language": "python",
   "name": "python3"
  },
  "language_info": {
   "codemirror_mode": {
    "name": "ipython",
    "version": 3
   },
   "file_extension": ".py",
   "mimetype": "text/x-python",
   "name": "python",
   "nbconvert_exporter": "python",
   "pygments_lexer": "ipython3",
   "version": "3.6.3"
  }
 },
 "nbformat": 4,
 "nbformat_minor": 2
}
